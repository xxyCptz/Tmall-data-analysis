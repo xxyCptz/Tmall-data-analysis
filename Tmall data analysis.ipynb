{
 "cells": [
  {
   "cell_type": "markdown",
   "metadata": {},
   "source": [
    "**1 数据导入与清洗**"
   ]
  },
  {
   "cell_type": "code",
   "execution_count": 131,
   "metadata": {},
   "outputs": [],
   "source": [
    "import pandas as pd\n",
    "import numpy as np\n",
    "import matplotlib.pyplot as plt"
   ]
  },
  {
   "cell_type": "code",
   "execution_count": 132,
   "metadata": {},
   "outputs": [
    {
     "name": "stdout",
     "output_type": "stream",
     "text": [
      "<class 'pandas.core.frame.DataFrame'>\n",
      "RangeIndex: 28010 entries, 0 to 28009\n",
      "Data columns (total 7 columns):\n",
      " #   Column    Non-Null Count  Dtype  \n",
      "---  ------    --------------  -----  \n",
      " 0   订单编号      28010 non-null  int64  \n",
      " 1   总金额       28010 non-null  float64\n",
      " 2   买家实际支付金额  28010 non-null  float64\n",
      " 3   收货地址      28010 non-null  object \n",
      " 4   订单创建时间    28010 non-null  object \n",
      " 5   订单付款时间    24087 non-null  object \n",
      " 6   退款金额      28010 non-null  float64\n",
      "dtypes: float64(3), int64(1), object(3)\n",
      "memory usage: 1.5+ MB\n"
     ]
    }
   ],
   "source": [
    "path='./tmall_order_report.csv'\n",
    "data=pd.read_csv(path)\n",
    "data.info()"
   ]
  },
  {
   "cell_type": "code",
   "execution_count": 133,
   "metadata": {},
   "outputs": [
    {
     "data": {
      "text/html": [
       "<div>\n",
       "<style scoped>\n",
       "    .dataframe tbody tr th:only-of-type {\n",
       "        vertical-align: middle;\n",
       "    }\n",
       "\n",
       "    .dataframe tbody tr th {\n",
       "        vertical-align: top;\n",
       "    }\n",
       "\n",
       "    .dataframe thead th {\n",
       "        text-align: right;\n",
       "    }\n",
       "</style>\n",
       "<table border=\"1\" class=\"dataframe\">\n",
       "  <thead>\n",
       "    <tr style=\"text-align: right;\">\n",
       "      <th></th>\n",
       "      <th>订单编号</th>\n",
       "      <th>总金额</th>\n",
       "      <th>买家实际支付金额</th>\n",
       "      <th>收货地址</th>\n",
       "      <th>订单创建时间</th>\n",
       "      <th>订单付款时间</th>\n",
       "      <th>退款金额</th>\n",
       "    </tr>\n",
       "  </thead>\n",
       "  <tbody>\n",
       "    <tr>\n",
       "      <th>0</th>\n",
       "      <td>1</td>\n",
       "      <td>178.8</td>\n",
       "      <td>0.0</td>\n",
       "      <td>上海</td>\n",
       "      <td>2020-02-21 00:00:00</td>\n",
       "      <td>NaN</td>\n",
       "      <td>0.0</td>\n",
       "    </tr>\n",
       "    <tr>\n",
       "      <th>1</th>\n",
       "      <td>2</td>\n",
       "      <td>21.0</td>\n",
       "      <td>21.0</td>\n",
       "      <td>内蒙古自治区</td>\n",
       "      <td>2020-02-20 23:59:54</td>\n",
       "      <td>2020-02-21 00:00:02</td>\n",
       "      <td>0.0</td>\n",
       "    </tr>\n",
       "    <tr>\n",
       "      <th>2</th>\n",
       "      <td>3</td>\n",
       "      <td>37.0</td>\n",
       "      <td>0.0</td>\n",
       "      <td>安徽省</td>\n",
       "      <td>2020-02-20 23:59:35</td>\n",
       "      <td>NaN</td>\n",
       "      <td>0.0</td>\n",
       "    </tr>\n",
       "    <tr>\n",
       "      <th>3</th>\n",
       "      <td>4</td>\n",
       "      <td>157.0</td>\n",
       "      <td>157.0</td>\n",
       "      <td>湖南省</td>\n",
       "      <td>2020-02-20 23:58:34</td>\n",
       "      <td>2020-02-20 23:58:44</td>\n",
       "      <td>0.0</td>\n",
       "    </tr>\n",
       "    <tr>\n",
       "      <th>4</th>\n",
       "      <td>5</td>\n",
       "      <td>64.8</td>\n",
       "      <td>0.0</td>\n",
       "      <td>江苏省</td>\n",
       "      <td>2020-02-20 23:57:04</td>\n",
       "      <td>2020-02-20 23:57:11</td>\n",
       "      <td>64.8</td>\n",
       "    </tr>\n",
       "  </tbody>\n",
       "</table>\n",
       "</div>"
      ],
      "text/plain": [
       "   订单编号    总金额  买家实际支付金额   收货地址                订单创建时间              订单付款时间   \\\n",
       "0     1  178.8       0.0      上海  2020-02-21 00:00:00                  NaN   \n",
       "1     2   21.0      21.0  内蒙古自治区  2020-02-20 23:59:54  2020-02-21 00:00:02   \n",
       "2     3   37.0       0.0     安徽省  2020-02-20 23:59:35                  NaN   \n",
       "3     4  157.0     157.0     湖南省  2020-02-20 23:58:34  2020-02-20 23:58:44   \n",
       "4     5   64.8       0.0     江苏省  2020-02-20 23:57:04  2020-02-20 23:57:11   \n",
       "\n",
       "   退款金额  \n",
       "0   0.0  \n",
       "1   0.0  \n",
       "2   0.0  \n",
       "3   0.0  \n",
       "4  64.8  "
      ]
     },
     "execution_count": 133,
     "metadata": {},
     "output_type": "execute_result"
    }
   ],
   "source": [
    "data.head()"
   ]
  },
  {
   "cell_type": "markdown",
   "metadata": {},
   "source": [
    "付款时间存在NA值：未付款订单"
   ]
  },
  {
   "cell_type": "code",
   "execution_count": 134,
   "metadata": {},
   "outputs": [
    {
     "data": {
      "text/plain": [
       "Index(['订单编号', '总金额', '买家实际支付金额', '收货地址', '订单创建时间', '订单付款时间', '退款金额'], dtype='object')"
      ]
     },
     "execution_count": 134,
     "metadata": {},
     "output_type": "execute_result"
    }
   ],
   "source": [
    "#列名空格清除\n",
    "data.columns=data.columns.str.strip()\n",
    "data.columns"
   ]
  },
  {
   "cell_type": "code",
   "execution_count": 135,
   "metadata": {},
   "outputs": [
    {
     "data": {
      "text/plain": [
       "array(['上海市', '内蒙古自治区', '安徽省', '湖南省', '江苏省', '浙江省', '天津市', '北京市', '四川省',\n",
       "       '贵州省', '辽宁省', '河南省', '广西壮族自治区', '广东省', '福建省', '海南省', '江西省', '甘肃省',\n",
       "       '河北省', '黑龙江省', '云南省', '重庆市', '山西省', '吉林省', '山东省', '陕西省', '湖北省',\n",
       "       '青海省', '新疆维吾尔自治区', '宁夏回族自治区', '西藏自治区'], dtype=object)"
      ]
     },
     "execution_count": 135,
     "metadata": {},
     "output_type": "execute_result"
    }
   ],
   "source": [
    "#规范收货地址名称，以便可视化处理\n",
    "add_city=['北京','上海','天津','重庆']\n",
    "for a in add_city:\n",
    "    data['收货地址']=data['收货地址'].str.replace(a,a+'市')\n",
    "data['收货地址'].unique()"
   ]
  },
  {
   "cell_type": "markdown",
   "metadata": {},
   "source": [
    "**2 数据可视化**"
   ]
  },
  {
   "cell_type": "code",
   "execution_count": 136,
   "metadata": {},
   "outputs": [
    {
     "data": {
      "text/plain": [
       "{'总订单数': 28010,\n",
       " '已完成订单数': 24087,\n",
       " '未付款订单数': 3923,\n",
       " '退款订单数': 5646,\n",
       " '总退款金额': 572335.92,\n",
       " '总订单金额': 2474823.0700000003,\n",
       " '总收入金额': 1902487.15}"
      ]
     },
     "execution_count": 136,
     "metadata": {},
     "output_type": "execute_result"
    }
   ],
   "source": [
    "result={}\n",
    "result['总订单数']=data['订单编号'].count()\n",
    "result['已完成订单数']=data['订单付款时间'][data['订单付款时间'].notnull()].count()\n",
    "result['未付款订单数']=data['订单编号'][data['订单付款时间'].isnull()].count()\n",
    "result['退款订单数']=data['退款金额'][data['退款金额']>0].count()\n",
    "result['总退款金额']=data['退款金额'][data['退款金额']>0].sum()\n",
    "result['总订单金额']=data['总金额'][data['订单付款时间'].notnull()].sum()\n",
    "result['总收入金额']=data['买家实际支付金额'].sum()\n",
    "result"
   ]
  },
  {
   "cell_type": "code",
   "execution_count": 137,
   "metadata": {},
   "outputs": [],
   "source": [
    "from pyecharts import options as opts\n",
    "from pyecharts.charts import Map, Bar, Line\n",
    "from pyecharts.components import Table\n",
    "from pyecharts.options import ComponentTitleOpts,VisualMapOpts\n",
    "from pyecharts.faker import Faker"
   ]
  },
  {
   "cell_type": "markdown",
   "metadata": {},
   "source": [
    "**2.1 整体情况总览**"
   ]
  },
  {
   "cell_type": "code",
   "execution_count": 138,
   "metadata": {},
   "outputs": [
    {
     "data": {
      "text/html": [
       "\n",
       "            <style>\n",
       "            .fl-table {\n",
       "                margin: 20px;\n",
       "                border-radius: 5px;\n",
       "                font-size: 12px;\n",
       "                border: none;\n",
       "                border-collapse: collapse;\n",
       "                max-width: 100%;\n",
       "                white-space: nowrap;\n",
       "                word-break: keep-all;\n",
       "            }\n",
       "\n",
       "            .fl-table th {\n",
       "                text-align: left;\n",
       "                font-size: 20px;\n",
       "            }\n",
       "\n",
       "            .fl-table tr {\n",
       "                display: table-row;\n",
       "                vertical-align: inherit;\n",
       "                border-color: inherit;\n",
       "            }\n",
       "\n",
       "            .fl-table tr:hover td {\n",
       "                background: #00d1b2;\n",
       "                color: #F8F8F8;\n",
       "            }\n",
       "\n",
       "            .fl-table td, .fl-table th {\n",
       "                border-style: none;\n",
       "                border-top: 1px solid #dbdbdb;\n",
       "                border-left: 1px solid #dbdbdb;\n",
       "                border-bottom: 3px solid #dbdbdb;\n",
       "                border-right: 1px solid #dbdbdb;\n",
       "                padding: .5em .55em;\n",
       "                font-size: 15px;\n",
       "            }\n",
       "\n",
       "            .fl-table td {\n",
       "                border-style: none;\n",
       "                font-size: 15px;\n",
       "                vertical-align: center;\n",
       "                border-bottom: 1px solid #dbdbdb;\n",
       "                border-left: 1px solid #dbdbdb;\n",
       "                border-right: 1px solid #dbdbdb;\n",
       "                height: 30px;\n",
       "            }\n",
       "\n",
       "            .fl-table tr:nth-child(even) {\n",
       "                background: #F8F8F8;\n",
       "            }\n",
       "        </style>\n",
       "        <div id=\"3108cb673cb34e83ae7575da4556e60c\" class=\"chart-container\" style=\"\">\n",
       "            <p class=\"title\" style=\"font-size: 18px; font-weight:bold;\" > 整体情况总览</p>\n",
       "            <p class=\"subtitle\" style=\"font-size: 12px;\" > </p>\n",
       "            <table class=\"fl-table\">\n",
       "    <thead>\n",
       "        <tr>\n",
       "            <th>总订单数</th>\n",
       "            <th>总订单金额</th>\n",
       "            <th>已完成订单数</th>\n",
       "            <th>总实际收入金额</th>\n",
       "            <th>退款订单数</th>\n",
       "            <th>总退款金额</th>\n",
       "            <th>成交率</th>\n",
       "            <th>退货率</th>\n",
       "        </tr>\n",
       "    </thead>\n",
       "    <tbody>\n",
       "        <tr>\n",
       "            <td>28010</td>\n",
       "            <td>247.48万</td>\n",
       "            <td>24087</td>\n",
       "            <td>190.25万</td>\n",
       "            <td>5646</td>\n",
       "            <td>57.23万</td>\n",
       "            <td>85.99%</td>\n",
       "            <td>23.44%</td>\n",
       "        </tr>\n",
       "    </tbody>\n",
       "</table>\n",
       "        </div>\n",
       "\n"
      ],
      "text/plain": [
       "<pyecharts.render.display.HTML at 0x1aff93a3fd0>"
      ]
     },
     "execution_count": 138,
     "metadata": {},
     "output_type": "execute_result"
    }
   ],
   "source": [
    "table=Table()\n",
    "headers=['总订单数', '总订单金额', '已完成订单数', '总实际收入金额', '退款订单数', '总退款金额', '成交率', '退货率']\n",
    "rows=[\n",
    "    [\n",
    "        result['总订单数'],\n",
    "        f\"{result['总订单金额']/10000:.2f}万\",\n",
    "        result['已完成订单数'],\n",
    "        f\"{result['总收入金额']/10000:.2f}万\",\n",
    "        result['退款订单数'],\n",
    "        f\"{result['总退款金额']/10000:.2f}万\",\n",
    "        f\"{result['已完成订单数']/result['总订单数']:.2%}\",\n",
    "        f\"{result['退款订单数']/result['已完成订单数']:.2%}\"\n",
    "    ]\n",
    "]\n",
    "table.add(headers,rows)\n",
    "table.set_global_opts(\n",
    "    title_opts=ComponentTitleOpts(title='整体情况总览')\n",
    ")\n",
    "table.render_notebook()"
   ]
  },
  {
   "cell_type": "markdown",
   "metadata": {},
   "source": [
    "整体情况的每个单项均可与该商品的月历史数据波动或设定目标进行比较，从而找出可优化点，做出相应调整。\n",
    "如假设：对比历史数据/目标数据，本月的退货率上升（偏高）/成交率下降（偏低）/总订单数减少等\n",
    "优化思路：\n",
    "1.明确对象：对商品分组聚合进行深入分析，确定出现该消极变化的具体类目；\n",
    "2.分向求因\n",
    "2.1产品：对对应类目的商品进行价格、质量、流量、舆情等因素的波动监测\n",
    "2.2顾客：将顾客分类为新客/回头客，分别提取对应数据\n",
    "2.3店铺：对店铺的推广方式、促销活动、运营热度等因素进行分析\n",
    "3.筛选真因：多维度分别选取相关性最强的一个或数个因素，提出针对性的改善对策，协调其他部门共同改善\n",
    "同理，若发生退货率下降/成交率上升/总订单数增加等积极变化，亦可对上述指标进行深入探索，以期将该积极变化映射到其他商品/店铺上。"
   ]
  },
  {
   "cell_type": "markdown",
   "metadata": {},
   "source": [
    "**2.2 地区分析**"
   ]
  },
  {
   "cell_type": "code",
   "execution_count": 145,
   "metadata": {},
   "outputs": [
    {
     "data": {
      "text/plain": [
       "'c:\\\\Users\\\\86155\\\\Desktop\\\\Tmall\\\\area_analysis.html'"
      ]
     },
     "execution_count": 145,
     "metadata": {},
     "output_type": "execute_result"
    }
   ],
   "source": [
    "result_area=data[data['订单付款时间'].notnull()].groupby('收货地址').agg({'订单编号':'count'}).to_dict()['订单编号']\n",
    "area=(\n",
    "    Map().add('订单量',[*result_area.items()],'china',is_map_symbol_show=False)\n",
    "    .set_series_opts(label_opts=opts.LabelOpts(is_show=True))\n",
    "    .set_global_opts(\n",
    "        title_opts=opts.TitleOpts(title='地区分布'),\n",
    "        visualmap_opts=opts.VisualMapOpts(max_=2000)\n",
    "    )\n",
    ")\n",
    "area.render('area_analysis.html')"
   ]
  },
  {
   "cell_type": "markdown",
   "metadata": {},
   "source": [
    "从地图上可以看出，上海、广东、北京、江苏、浙江、四川省市的订单量位列前茅，而西北地区的订单量则明显处于较低的水平。\n",
    "其原因可能与发货地、物流便利程度、运费等因素有关，可考虑增加仓库点位、与物流商洽谈合作等。"
   ]
  },
  {
   "cell_type": "markdown",
   "metadata": {},
   "source": [
    "**2.3 时间分析**"
   ]
  },
  {
   "cell_type": "code",
   "execution_count": 140,
   "metadata": {},
   "outputs": [],
   "source": [
    "data['订单付款时间']=pd.to_datetime(data['订单付款时间'])\n",
    "data['订单创建时间']=pd.to_datetime(data['订单创建时间'])"
   ]
  },
  {
   "cell_type": "code",
   "execution_count": 141,
   "metadata": {},
   "outputs": [
    {
     "data": {
      "text/plain": [
       "'c:\\\\Users\\\\86155\\\\Desktop\\\\Tmall\\\\date_analysis.html'"
      ]
     },
     "execution_count": 141,
     "metadata": {},
     "output_type": "execute_result"
    }
   ],
   "source": [
    "#月订单量走势分析\n",
    "result_date=data.groupby(data['订单创建时间'].apply(lambda x:x.strftime('%Y-%m-%d'))).agg({'订单编号':'count'}).to_dict()['订单编号']\n",
    "date=(\n",
    "    Line()\n",
    "    .add_xaxis(list(result_date.keys()))\n",
    "    .add_yaxis('订单量',list(result_date.values()))\n",
    "    .set_series_opts(\n",
    "        label_opts=opts.LabelOpts(is_show=False),\n",
    "        markpoint_opts=opts.MarkPointOpts(\n",
    "            data=[\n",
    "                opts.MarkPointItem(\n",
    "                    type_='max',name='最大值'\n",
    "                )\n",
    "            ]\n",
    "        )\n",
    "    )\n",
    "    .set_global_opts(title_opts=opts.TitleOpts(title='订单量日走势'))\n",
    ")\n",
    "date.render('date_analysis.html')"
   ]
  },
  {
   "cell_type": "markdown",
   "metadata": {},
   "source": [
    "在2月每日的订单量数据波动中，可以看到17号之前都处于较低的水平，从17号始有了明显的增长趋势，在25号到达了峰值。\n",
    "其原因可能与疫情封控、物流受限有关。"
   ]
  },
  {
   "cell_type": "code",
   "execution_count": 142,
   "metadata": {},
   "outputs": [
    {
     "data": {
      "text/plain": [
       "'c:\\\\Users\\\\86155\\\\Desktop\\\\Tmall\\\\time_analysis.html'"
      ]
     },
     "execution_count": 142,
     "metadata": {},
     "output_type": "execute_result"
    }
   ],
   "source": [
    "#日订单量走势分析\n",
    "result_time=data.groupby(data['订单创建时间'].apply(lambda x:x.strftime('%H'))).agg({'订单编号':'count'}).to_dict()['订单编号']\n",
    "x=[*result_time.keys()]\n",
    "y=[*result_time.values()]\n",
    "time=(\n",
    "    Bar()\n",
    "    .add_xaxis(x)\n",
    "    .add_yaxis('订单量',y)\n",
    "    .set_series_opts(\n",
    "        label_opts=opts.LabelOpts(is_show=False),\n",
    "        markpoint_opts=opts.MarkPointOpts(\n",
    "            data=[\n",
    "                opts.MarkPointItem(name='峰值',type_='max')\n",
    "            ]\n",
    "        )\n",
    "    )\n",
    ")\n",
    "time.render('time_analysis.html')"
   ]
  },
  {
   "cell_type": "markdown",
   "metadata": {},
   "source": [
    "从每小时的订单量走势来看，一天有3个下单高峰期，分别是10、15、21点，在凌晨5点左右下单量处于低谷期。\n",
    "可建议客服部门在下单高峰期提高运力，保证回复顾客的及时性，以提高下单量。"
   ]
  },
  {
   "cell_type": "code",
   "execution_count": 143,
   "metadata": {},
   "outputs": [
    {
     "data": {
      "text/plain": [
       "7.7399046511949745"
      ]
     },
     "execution_count": 143,
     "metadata": {},
     "output_type": "execute_result"
    }
   ],
   "source": [
    "#付款时间分析\n",
    "d=data['订单付款时间']-data['订单创建时间']\n",
    "d[d.notnull()].apply(lambda x:x.seconds/60).mean()"
   ]
  },
  {
   "cell_type": "markdown",
   "metadata": {},
   "source": [
    "顾客的平均付款时间为7.7分钟，其波动可能与商品价格、促销活动、商品描述、商品评价等指标有关。\n",
    "可通过优化商品详情进行改善。"
   ]
  }
 ],
 "metadata": {
  "kernelspec": {
   "display_name": "Python 3",
   "language": "python",
   "name": "python3"
  },
  "language_info": {
   "codemirror_mode": {
    "name": "ipython",
    "version": 3
   },
   "file_extension": ".py",
   "mimetype": "text/x-python",
   "name": "python",
   "nbconvert_exporter": "python",
   "pygments_lexer": "ipython3",
   "version": "3.10.11"
  },
  "orig_nbformat": 4
 },
 "nbformat": 4,
 "nbformat_minor": 2
}
