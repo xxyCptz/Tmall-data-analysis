{
 "cells": [
  {
   "cell_type": "markdown",
   "metadata": {},
   "source": [
    "**1.tmall_order_report.csv**"
   ]
  },
  {
   "cell_type": "markdown",
   "metadata": {},
   "source": [
    "**1 数据导入与清洗**"
   ]
  },
  {
   "cell_type": "code",
   "execution_count": 182,
   "metadata": {},
   "outputs": [],
   "source": [
    "import pandas as pd\n",
    "import numpy as np\n",
    "import matplotlib.pyplot as plt"
   ]
  },
  {
   "cell_type": "code",
   "execution_count": 183,
   "metadata": {},
   "outputs": [
    {
     "name": "stdout",
     "output_type": "stream",
     "text": [
      "<class 'pandas.core.frame.DataFrame'>\n",
      "RangeIndex: 28010 entries, 0 to 28009\n",
      "Data columns (total 7 columns):\n",
      " #   Column    Non-Null Count  Dtype  \n",
      "---  ------    --------------  -----  \n",
      " 0   订单编号      28010 non-null  int64  \n",
      " 1   总金额       28010 non-null  float64\n",
      " 2   买家实际支付金额  28010 non-null  float64\n",
      " 3   收货地址      28010 non-null  object \n",
      " 4   订单创建时间    28010 non-null  object \n",
      " 5   订单付款时间    24087 non-null  object \n",
      " 6   退款金额      28010 non-null  float64\n",
      "dtypes: float64(3), int64(1), object(3)\n",
      "memory usage: 1.5+ MB\n"
     ]
    }
   ],
   "source": [
    "order_path='./tmall_order_report.csv'\n",
    "data=pd.read_csv(order_path)\n",
    "data.info()"
   ]
  },
  {
   "cell_type": "code",
   "execution_count": 184,
   "metadata": {},
   "outputs": [
    {
     "data": {
      "text/html": [
       "<div>\n",
       "<style scoped>\n",
       "    .dataframe tbody tr th:only-of-type {\n",
       "        vertical-align: middle;\n",
       "    }\n",
       "\n",
       "    .dataframe tbody tr th {\n",
       "        vertical-align: top;\n",
       "    }\n",
       "\n",
       "    .dataframe thead th {\n",
       "        text-align: right;\n",
       "    }\n",
       "</style>\n",
       "<table border=\"1\" class=\"dataframe\">\n",
       "  <thead>\n",
       "    <tr style=\"text-align: right;\">\n",
       "      <th></th>\n",
       "      <th>订单编号</th>\n",
       "      <th>总金额</th>\n",
       "      <th>买家实际支付金额</th>\n",
       "      <th>收货地址</th>\n",
       "      <th>订单创建时间</th>\n",
       "      <th>订单付款时间</th>\n",
       "      <th>退款金额</th>\n",
       "    </tr>\n",
       "  </thead>\n",
       "  <tbody>\n",
       "    <tr>\n",
       "      <th>0</th>\n",
       "      <td>1</td>\n",
       "      <td>178.8</td>\n",
       "      <td>0.0</td>\n",
       "      <td>上海</td>\n",
       "      <td>2020-02-21 00:00:00</td>\n",
       "      <td>NaN</td>\n",
       "      <td>0.0</td>\n",
       "    </tr>\n",
       "    <tr>\n",
       "      <th>1</th>\n",
       "      <td>2</td>\n",
       "      <td>21.0</td>\n",
       "      <td>21.0</td>\n",
       "      <td>内蒙古自治区</td>\n",
       "      <td>2020-02-20 23:59:54</td>\n",
       "      <td>2020-02-21 00:00:02</td>\n",
       "      <td>0.0</td>\n",
       "    </tr>\n",
       "    <tr>\n",
       "      <th>2</th>\n",
       "      <td>3</td>\n",
       "      <td>37.0</td>\n",
       "      <td>0.0</td>\n",
       "      <td>安徽省</td>\n",
       "      <td>2020-02-20 23:59:35</td>\n",
       "      <td>NaN</td>\n",
       "      <td>0.0</td>\n",
       "    </tr>\n",
       "    <tr>\n",
       "      <th>3</th>\n",
       "      <td>4</td>\n",
       "      <td>157.0</td>\n",
       "      <td>157.0</td>\n",
       "      <td>湖南省</td>\n",
       "      <td>2020-02-20 23:58:34</td>\n",
       "      <td>2020-02-20 23:58:44</td>\n",
       "      <td>0.0</td>\n",
       "    </tr>\n",
       "    <tr>\n",
       "      <th>4</th>\n",
       "      <td>5</td>\n",
       "      <td>64.8</td>\n",
       "      <td>0.0</td>\n",
       "      <td>江苏省</td>\n",
       "      <td>2020-02-20 23:57:04</td>\n",
       "      <td>2020-02-20 23:57:11</td>\n",
       "      <td>64.8</td>\n",
       "    </tr>\n",
       "  </tbody>\n",
       "</table>\n",
       "</div>"
      ],
      "text/plain": [
       "   订单编号    总金额  买家实际支付金额   收货地址                订单创建时间              订单付款时间   \\\n",
       "0     1  178.8       0.0      上海  2020-02-21 00:00:00                  NaN   \n",
       "1     2   21.0      21.0  内蒙古自治区  2020-02-20 23:59:54  2020-02-21 00:00:02   \n",
       "2     3   37.0       0.0     安徽省  2020-02-20 23:59:35                  NaN   \n",
       "3     4  157.0     157.0     湖南省  2020-02-20 23:58:34  2020-02-20 23:58:44   \n",
       "4     5   64.8       0.0     江苏省  2020-02-20 23:57:04  2020-02-20 23:57:11   \n",
       "\n",
       "   退款金额  \n",
       "0   0.0  \n",
       "1   0.0  \n",
       "2   0.0  \n",
       "3   0.0  \n",
       "4  64.8  "
      ]
     },
     "execution_count": 184,
     "metadata": {},
     "output_type": "execute_result"
    }
   ],
   "source": [
    "data.head()"
   ]
  },
  {
   "cell_type": "markdown",
   "metadata": {},
   "source": [
    "付款时间存在NA值：未付款订单"
   ]
  },
  {
   "cell_type": "code",
   "execution_count": 185,
   "metadata": {},
   "outputs": [
    {
     "data": {
      "text/plain": [
       "Index(['订单编号', '总金额', '买家实际支付金额', '收货地址', '订单创建时间', '订单付款时间', '退款金额'], dtype='object')"
      ]
     },
     "execution_count": 185,
     "metadata": {},
     "output_type": "execute_result"
    }
   ],
   "source": [
    "#列名空格清除\n",
    "data.columns=data.columns.str.strip()\n",
    "data.columns"
   ]
  },
  {
   "cell_type": "code",
   "execution_count": 186,
   "metadata": {},
   "outputs": [
    {
     "data": {
      "text/plain": [
       "array(['上海市', '内蒙古自治区', '安徽省', '湖南省', '江苏省', '浙江省', '天津市', '北京市', '四川省',\n",
       "       '贵州省', '辽宁省', '河南省', '广西壮族自治区', '广东省', '福建省', '海南省', '江西省', '甘肃省',\n",
       "       '河北省', '黑龙江省', '云南省', '重庆市', '山西省', '吉林省', '山东省', '陕西省', '湖北省',\n",
       "       '青海省', '新疆维吾尔自治区', '宁夏回族自治区', '西藏自治区'], dtype=object)"
      ]
     },
     "execution_count": 186,
     "metadata": {},
     "output_type": "execute_result"
    }
   ],
   "source": [
    "#规范收货地址名称，以便可视化处理\n",
    "add_city=['北京','上海','天津','重庆']\n",
    "for a in add_city:\n",
    "    data['收货地址']=data['收货地址'].str.replace(a,a+'市')\n",
    "data['收货地址'].unique()"
   ]
  },
  {
   "cell_type": "markdown",
   "metadata": {},
   "source": [
    "**2 数据可视化**"
   ]
  },
  {
   "cell_type": "code",
   "execution_count": 187,
   "metadata": {},
   "outputs": [
    {
     "data": {
      "text/plain": [
       "{'总订单数': 28010,\n",
       " '已完成订单数': 24087,\n",
       " '未付款订单数': 3923,\n",
       " '退款订单数': 5646,\n",
       " '总退款金额': 572335.92,\n",
       " '总订单金额': 2474823.0700000003,\n",
       " '总收入金额': 1902487.15}"
      ]
     },
     "execution_count": 187,
     "metadata": {},
     "output_type": "execute_result"
    }
   ],
   "source": [
    "result={}\n",
    "result['总订单数']=data['订单编号'].count()\n",
    "result['已完成订单数']=data['订单付款时间'][data['订单付款时间'].notnull()].count()\n",
    "result['未付款订单数']=data['订单编号'][data['订单付款时间'].isnull()].count()\n",
    "result['退款订单数']=data['退款金额'][data['退款金额']>0].count()\n",
    "result['总退款金额']=data['退款金额'][data['退款金额']>0].sum()\n",
    "result['总订单金额']=data['总金额'][data['订单付款时间'].notnull()].sum()\n",
    "result['总收入金额']=data['买家实际支付金额'].sum()\n",
    "result"
   ]
  },
  {
   "cell_type": "code",
   "execution_count": 188,
   "metadata": {},
   "outputs": [],
   "source": [
    "from pyecharts import options as opts\n",
    "from pyecharts.charts import Map, Bar, Line\n",
    "from pyecharts.components import Table\n",
    "from pyecharts.options import ComponentTitleOpts,VisualMapOpts\n",
    "from pyecharts.faker import Faker"
   ]
  },
  {
   "cell_type": "markdown",
   "metadata": {},
   "source": [
    "**2.1 整体情况总览**"
   ]
  },
  {
   "cell_type": "code",
   "execution_count": 189,
   "metadata": {},
   "outputs": [
    {
     "data": {
      "text/html": [
       "\n",
       "            <style>\n",
       "            .fl-table {\n",
       "                margin: 20px;\n",
       "                border-radius: 5px;\n",
       "                font-size: 12px;\n",
       "                border: none;\n",
       "                border-collapse: collapse;\n",
       "                max-width: 100%;\n",
       "                white-space: nowrap;\n",
       "                word-break: keep-all;\n",
       "            }\n",
       "\n",
       "            .fl-table th {\n",
       "                text-align: left;\n",
       "                font-size: 20px;\n",
       "            }\n",
       "\n",
       "            .fl-table tr {\n",
       "                display: table-row;\n",
       "                vertical-align: inherit;\n",
       "                border-color: inherit;\n",
       "            }\n",
       "\n",
       "            .fl-table tr:hover td {\n",
       "                background: #00d1b2;\n",
       "                color: #F8F8F8;\n",
       "            }\n",
       "\n",
       "            .fl-table td, .fl-table th {\n",
       "                border-style: none;\n",
       "                border-top: 1px solid #dbdbdb;\n",
       "                border-left: 1px solid #dbdbdb;\n",
       "                border-bottom: 3px solid #dbdbdb;\n",
       "                border-right: 1px solid #dbdbdb;\n",
       "                padding: .5em .55em;\n",
       "                font-size: 15px;\n",
       "            }\n",
       "\n",
       "            .fl-table td {\n",
       "                border-style: none;\n",
       "                font-size: 15px;\n",
       "                vertical-align: center;\n",
       "                border-bottom: 1px solid #dbdbdb;\n",
       "                border-left: 1px solid #dbdbdb;\n",
       "                border-right: 1px solid #dbdbdb;\n",
       "                height: 30px;\n",
       "            }\n",
       "\n",
       "            .fl-table tr:nth-child(even) {\n",
       "                background: #F8F8F8;\n",
       "            }\n",
       "        </style>\n",
       "        <div id=\"975ecfa7d9784452abec185ece5d3d1c\" class=\"chart-container\" style=\"\">\n",
       "            <p class=\"title\" style=\"font-size: 18px; font-weight:bold;\" > 整体情况总览</p>\n",
       "            <p class=\"subtitle\" style=\"font-size: 12px;\" > </p>\n",
       "            <table class=\"fl-table\">\n",
       "    <thead>\n",
       "        <tr>\n",
       "            <th>总订单数</th>\n",
       "            <th>总订单金额</th>\n",
       "            <th>已完成订单数</th>\n",
       "            <th>总实际收入金额</th>\n",
       "            <th>退款订单数</th>\n",
       "            <th>总退款金额</th>\n",
       "            <th>成交率</th>\n",
       "            <th>退货率</th>\n",
       "        </tr>\n",
       "    </thead>\n",
       "    <tbody>\n",
       "        <tr>\n",
       "            <td>28010</td>\n",
       "            <td>247.48万</td>\n",
       "            <td>24087</td>\n",
       "            <td>190.25万</td>\n",
       "            <td>5646</td>\n",
       "            <td>57.23万</td>\n",
       "            <td>85.99%</td>\n",
       "            <td>23.44%</td>\n",
       "        </tr>\n",
       "    </tbody>\n",
       "</table>\n",
       "        </div>\n",
       "\n"
      ],
      "text/plain": [
       "<pyecharts.render.display.HTML at 0x1abd2932470>"
      ]
     },
     "execution_count": 189,
     "metadata": {},
     "output_type": "execute_result"
    }
   ],
   "source": [
    "table=Table()\n",
    "headers=['总订单数', '总订单金额', '已完成订单数', '总实际收入金额', '退款订单数', '总退款金额', '成交率', '退货率']\n",
    "rows=[\n",
    "    [\n",
    "        result['总订单数'],\n",
    "        f\"{result['总订单金额']/10000:.2f}万\",\n",
    "        result['已完成订单数'],\n",
    "        f\"{result['总收入金额']/10000:.2f}万\",\n",
    "        result['退款订单数'],\n",
    "        f\"{result['总退款金额']/10000:.2f}万\",\n",
    "        f\"{result['已完成订单数']/result['总订单数']:.2%}\",\n",
    "        f\"{result['退款订单数']/result['已完成订单数']:.2%}\"\n",
    "    ]\n",
    "]\n",
    "table.add(headers,rows)\n",
    "table.set_global_opts(\n",
    "    title_opts=ComponentTitleOpts(title='整体情况总览')\n",
    ")\n",
    "table.render_notebook()"
   ]
  },
  {
   "cell_type": "markdown",
   "metadata": {},
   "source": [
    "整体情况的每个单项均可与该商品的月历史数据波动或设定目标进行比较，从而找出可优化点，做出相应调整。\n",
    "如假设：对比历史数据/目标数据，本月的退货率上升（偏高）/成交率下降（偏低）/总订单数减少等\n",
    "优化思路：\n",
    "1.明确对象：对商品分组聚合进行深入分析，确定出现该消极变化的具体类目；\n",
    "2.分向求因\n",
    "2.1产品：对对应类目的商品进行价格、质量、流量、舆情等因素的波动监测\n",
    "2.2顾客：将顾客分类为新客/回头客，分别提取对应数据\n",
    "2.3店铺：对店铺的推广方式、促销活动、运营热度等因素进行分析\n",
    "3.筛选真因：多维度分别选取相关性最强的一个或数个因素，提出针对性的改善对策，协调其他部门共同改善\n",
    "同理，若发生退货率下降/成交率上升/总订单数增加等积极变化，亦可对上述指标进行深入探索，以期将该积极变化映射到其他商品/店铺上。"
   ]
  },
  {
   "cell_type": "markdown",
   "metadata": {},
   "source": [
    "**2.2 地区分析**"
   ]
  },
  {
   "cell_type": "code",
   "execution_count": 190,
   "metadata": {},
   "outputs": [
    {
     "data": {
      "text/plain": [
       "'c:\\\\Users\\\\86155\\\\Desktop\\\\Tmall\\\\area_analysis.html'"
      ]
     },
     "execution_count": 190,
     "metadata": {},
     "output_type": "execute_result"
    }
   ],
   "source": [
    "result_area=data[data['订单付款时间'].notnull()].groupby('收货地址').agg({'订单编号':'count'}).to_dict()['订单编号']\n",
    "area=(\n",
    "    Map().add('订单量',[*result_area.items()],'china',is_map_symbol_show=False)\n",
    "    .set_series_opts(label_opts=opts.LabelOpts(is_show=True))\n",
    "    .set_global_opts(\n",
    "        title_opts=opts.TitleOpts(title='地区分布'),\n",
    "        visualmap_opts=opts.VisualMapOpts(max_=2000)\n",
    "    )\n",
    ")\n",
    "area.render('area_analysis.html')"
   ]
  },
  {
   "cell_type": "markdown",
   "metadata": {},
   "source": [
    "从地图上可以看出，上海、广东、北京、江苏、浙江、四川省市的订单量位列前茅，而西北地区的订单量则明显处于较低的水平。\n",
    "其原因可能与发货地、物流便利程度、运费等因素有关，可考虑增加仓库点位、与物流商洽谈合作等。"
   ]
  },
  {
   "cell_type": "markdown",
   "metadata": {},
   "source": [
    "**2.3 时间分析**"
   ]
  },
  {
   "cell_type": "code",
   "execution_count": 191,
   "metadata": {},
   "outputs": [],
   "source": [
    "data['订单付款时间']=pd.to_datetime(data['订单付款时间'])\n",
    "data['订单创建时间']=pd.to_datetime(data['订单创建时间'])"
   ]
  },
  {
   "cell_type": "code",
   "execution_count": 192,
   "metadata": {},
   "outputs": [
    {
     "data": {
      "text/plain": [
       "'c:\\\\Users\\\\86155\\\\Desktop\\\\Tmall\\\\date_analysis.html'"
      ]
     },
     "execution_count": 192,
     "metadata": {},
     "output_type": "execute_result"
    }
   ],
   "source": [
    "#月订单量走势分析\n",
    "result_date=data.groupby(data['订单创建时间'].apply(lambda x:x.strftime('%Y-%m-%d'))).agg({'订单编号':'count'}).to_dict()['订单编号']\n",
    "date=(\n",
    "    Line()\n",
    "    .add_xaxis(list(result_date.keys()))\n",
    "    .add_yaxis('订单量',list(result_date.values()))\n",
    "    .set_series_opts(\n",
    "        label_opts=opts.LabelOpts(is_show=False),\n",
    "        markpoint_opts=opts.MarkPointOpts(\n",
    "            data=[\n",
    "                opts.MarkPointItem(\n",
    "                    type_='max',name='最大值'\n",
    "                )\n",
    "            ]\n",
    "        )\n",
    "    )\n",
    "    .set_global_opts(title_opts=opts.TitleOpts(title='订单量日走势'))\n",
    ")\n",
    "date.render('date_analysis.html')"
   ]
  },
  {
   "cell_type": "markdown",
   "metadata": {},
   "source": [
    "在2月每日的订单量数据波动中，可以看到17号之前都处于较低的水平，从17号始有了明显的增长趋势，在25号到达了峰值。\n",
    "其原因可能与疫情封控、物流受限有关。"
   ]
  },
  {
   "cell_type": "code",
   "execution_count": 193,
   "metadata": {},
   "outputs": [
    {
     "data": {
      "text/plain": [
       "'c:\\\\Users\\\\86155\\\\Desktop\\\\Tmall\\\\time_analysis.html'"
      ]
     },
     "execution_count": 193,
     "metadata": {},
     "output_type": "execute_result"
    }
   ],
   "source": [
    "#日订单量走势分析\n",
    "result_time=data.groupby(data['订单创建时间'].apply(lambda x:x.strftime('%H'))).agg({'订单编号':'count'}).to_dict()['订单编号']\n",
    "x=[*result_time.keys()]\n",
    "y=[*result_time.values()]\n",
    "time=(\n",
    "    Bar()\n",
    "    .add_xaxis(x)\n",
    "    .add_yaxis('订单量',y)\n",
    "    .set_series_opts(\n",
    "        label_opts=opts.LabelOpts(is_show=False),\n",
    "        markpoint_opts=opts.MarkPointOpts(\n",
    "            data=[\n",
    "                opts.MarkPointItem(name='峰值',type_='max')\n",
    "            ]\n",
    "        )\n",
    "    )\n",
    ")\n",
    "time.render('time_analysis.html')"
   ]
  },
  {
   "cell_type": "markdown",
   "metadata": {},
   "source": [
    "从每小时的订单量走势来看，一天有3个下单高峰期，分别是10、15、21点，在凌晨5点左右下单量处于低谷期。\n",
    "可建议客服部门在下单高峰期提高运力，保证回复顾客的及时性，以提高下单量。"
   ]
  },
  {
   "cell_type": "code",
   "execution_count": 194,
   "metadata": {},
   "outputs": [
    {
     "data": {
      "text/plain": [
       "7.7399046511949745"
      ]
     },
     "execution_count": 194,
     "metadata": {},
     "output_type": "execute_result"
    }
   ],
   "source": [
    "#付款时间分析\n",
    "d=data['订单付款时间']-data['订单创建时间']\n",
    "d[d.notnull()].apply(lambda x:x.seconds/60).mean()"
   ]
  },
  {
   "cell_type": "markdown",
   "metadata": {},
   "source": [
    "顾客的平均付款时间为7.7分钟，其波动可能与商品价格、促销活动、商品描述、商品评价等指标有关。\n",
    "可通过优化商品详情进行改善。"
   ]
  },
  {
   "cell_type": "markdown",
   "metadata": {},
   "source": [
    "**2.日化.xlsx**"
   ]
  },
  {
   "cell_type": "markdown",
   "metadata": {},
   "source": [
    "**1 数据导入与清洗**"
   ]
  },
  {
   "cell_type": "code",
   "execution_count": 195,
   "metadata": {},
   "outputs": [
    {
     "data": {
      "text/html": [
       "<div>\n",
       "<style scoped>\n",
       "    .dataframe tbody tr th:only-of-type {\n",
       "        vertical-align: middle;\n",
       "    }\n",
       "\n",
       "    .dataframe tbody tr th {\n",
       "        vertical-align: top;\n",
       "    }\n",
       "\n",
       "    .dataframe thead th {\n",
       "        text-align: right;\n",
       "    }\n",
       "</style>\n",
       "<table border=\"1\" class=\"dataframe\">\n",
       "  <thead>\n",
       "    <tr style=\"text-align: right;\">\n",
       "      <th></th>\n",
       "      <th>订单编码</th>\n",
       "      <th>订单日期</th>\n",
       "      <th>客户编码</th>\n",
       "      <th>所在区域</th>\n",
       "      <th>所在省份</th>\n",
       "      <th>所在地市</th>\n",
       "      <th>商品编号</th>\n",
       "      <th>订购数量</th>\n",
       "      <th>订购单价</th>\n",
       "      <th>金额</th>\n",
       "    </tr>\n",
       "  </thead>\n",
       "  <tbody>\n",
       "    <tr>\n",
       "      <th>0</th>\n",
       "      <td>D31313</td>\n",
       "      <td>2019-05-16 00:00:00</td>\n",
       "      <td>S22796</td>\n",
       "      <td>东区</td>\n",
       "      <td>浙江省</td>\n",
       "      <td>台州市</td>\n",
       "      <td>X091</td>\n",
       "      <td>892</td>\n",
       "      <td>214</td>\n",
       "      <td>190888.0</td>\n",
       "    </tr>\n",
       "    <tr>\n",
       "      <th>1</th>\n",
       "      <td>D21329</td>\n",
       "      <td>2019-05-14 00:00:00</td>\n",
       "      <td>S11460</td>\n",
       "      <td>东区</td>\n",
       "      <td>安徽省</td>\n",
       "      <td>宿州市</td>\n",
       "      <td>X005</td>\n",
       "      <td>276</td>\n",
       "      <td>185</td>\n",
       "      <td>51060.0</td>\n",
       "    </tr>\n",
       "    <tr>\n",
       "      <th>2</th>\n",
       "      <td>D22372</td>\n",
       "      <td>2019-08-26 00:00:00</td>\n",
       "      <td>S11101</td>\n",
       "      <td>北区</td>\n",
       "      <td>山西省</td>\n",
       "      <td>忻州市</td>\n",
       "      <td>X078</td>\n",
       "      <td>1450</td>\n",
       "      <td>116</td>\n",
       "      <td>168200.0</td>\n",
       "    </tr>\n",
       "    <tr>\n",
       "      <th>3</th>\n",
       "      <td>D31078</td>\n",
       "      <td>2019-04-08 00:00:00</td>\n",
       "      <td>S10902</td>\n",
       "      <td>北区</td>\n",
       "      <td>吉林省</td>\n",
       "      <td>延边朝鲜族自治州</td>\n",
       "      <td>X025</td>\n",
       "      <td>1834</td>\n",
       "      <td>102</td>\n",
       "      <td>187068.0</td>\n",
       "    </tr>\n",
       "    <tr>\n",
       "      <th>4</th>\n",
       "      <td>D32470</td>\n",
       "      <td>2019-04-11 00:00:00</td>\n",
       "      <td>S18696</td>\n",
       "      <td>北区</td>\n",
       "      <td>北京市</td>\n",
       "      <td>北京市</td>\n",
       "      <td>X010</td>\n",
       "      <td>887</td>\n",
       "      <td>58</td>\n",
       "      <td>51446.0</td>\n",
       "    </tr>\n",
       "  </tbody>\n",
       "</table>\n",
       "</div>"
      ],
      "text/plain": [
       "     订单编码                 订单日期    客户编码 所在区域 所在省份      所在地市  商品编号  订购数量 订购单价  \\\n",
       "0  D31313  2019-05-16 00:00:00  S22796   东区  浙江省       台州市  X091   892  214   \n",
       "1  D21329  2019-05-14 00:00:00  S11460   东区  安徽省       宿州市  X005   276  185   \n",
       "2  D22372  2019-08-26 00:00:00  S11101   北区  山西省       忻州市  X078  1450  116   \n",
       "3  D31078  2019-04-08 00:00:00  S10902   北区  吉林省  延边朝鲜族自治州  X025  1834  102   \n",
       "4  D32470  2019-04-11 00:00:00  S18696   北区  北京市       北京市  X010   887   58   \n",
       "\n",
       "         金额  \n",
       "0  190888.0  \n",
       "1   51060.0  \n",
       "2  168200.0  \n",
       "3  187068.0  \n",
       "4   51446.0  "
      ]
     },
     "execution_count": 195,
     "metadata": {},
     "output_type": "execute_result"
    }
   ],
   "source": [
    "rihua_path='./日化.xlsx'\n",
    "order=pd.read_excel(rihua_path,sheet_name='销售订单表')\n",
    "info=pd.read_excel(rihua_path,sheet_name='商品信息表')\n",
    "order.head()"
   ]
  },
  {
   "cell_type": "code",
   "execution_count": 196,
   "metadata": {},
   "outputs": [
    {
     "data": {
      "text/html": [
       "<div>\n",
       "<style scoped>\n",
       "    .dataframe tbody tr th:only-of-type {\n",
       "        vertical-align: middle;\n",
       "    }\n",
       "\n",
       "    .dataframe tbody tr th {\n",
       "        vertical-align: top;\n",
       "    }\n",
       "\n",
       "    .dataframe thead th {\n",
       "        text-align: right;\n",
       "    }\n",
       "</style>\n",
       "<table border=\"1\" class=\"dataframe\">\n",
       "  <thead>\n",
       "    <tr style=\"text-align: right;\">\n",
       "      <th></th>\n",
       "      <th>商品编号</th>\n",
       "      <th>商品名称</th>\n",
       "      <th>商品小类</th>\n",
       "      <th>商品大类</th>\n",
       "      <th>销售单价</th>\n",
       "    </tr>\n",
       "  </thead>\n",
       "  <tbody>\n",
       "    <tr>\n",
       "      <th>0</th>\n",
       "      <td>X001</td>\n",
       "      <td>商品1</td>\n",
       "      <td>面膜</td>\n",
       "      <td>护肤品</td>\n",
       "      <td>121</td>\n",
       "    </tr>\n",
       "    <tr>\n",
       "      <th>1</th>\n",
       "      <td>X002</td>\n",
       "      <td>商品2</td>\n",
       "      <td>面膜</td>\n",
       "      <td>护肤品</td>\n",
       "      <td>141</td>\n",
       "    </tr>\n",
       "    <tr>\n",
       "      <th>2</th>\n",
       "      <td>X003</td>\n",
       "      <td>商品3</td>\n",
       "      <td>面膜</td>\n",
       "      <td>护肤品</td>\n",
       "      <td>168</td>\n",
       "    </tr>\n",
       "    <tr>\n",
       "      <th>3</th>\n",
       "      <td>X004</td>\n",
       "      <td>商品4</td>\n",
       "      <td>面膜</td>\n",
       "      <td>护肤品</td>\n",
       "      <td>211</td>\n",
       "    </tr>\n",
       "    <tr>\n",
       "      <th>4</th>\n",
       "      <td>X005</td>\n",
       "      <td>商品5</td>\n",
       "      <td>面膜</td>\n",
       "      <td>护肤品</td>\n",
       "      <td>185</td>\n",
       "    </tr>\n",
       "  </tbody>\n",
       "</table>\n",
       "</div>"
      ],
      "text/plain": [
       "   商品编号 商品名称 商品小类 商品大类  销售单价\n",
       "0  X001  商品1   面膜  护肤品   121\n",
       "1  X002  商品2   面膜  护肤品   141\n",
       "2  X003  商品3   面膜  护肤品   168\n",
       "3  X004  商品4   面膜  护肤品   211\n",
       "4  X005  商品5   面膜  护肤品   185"
      ]
     },
     "execution_count": 196,
     "metadata": {},
     "output_type": "execute_result"
    }
   ],
   "source": [
    "info.head()"
   ]
  },
  {
   "cell_type": "code",
   "execution_count": 197,
   "metadata": {},
   "outputs": [
    {
     "name": "stdout",
     "output_type": "stream",
     "text": [
      "<class 'pandas.core.frame.DataFrame'>\n",
      "RangeIndex: 31452 entries, 0 to 31451\n",
      "Data columns (total 10 columns):\n",
      " #   Column  Non-Null Count  Dtype  \n",
      "---  ------  --------------  -----  \n",
      " 0   订单编码    31452 non-null  object \n",
      " 1   订单日期    31452 non-null  object \n",
      " 2   客户编码    31452 non-null  object \n",
      " 3   所在区域    31450 non-null  object \n",
      " 4   所在省份    31450 non-null  object \n",
      " 5   所在地市    31452 non-null  object \n",
      " 6   商品编号    31451 non-null  object \n",
      " 7   订购数量    31450 non-null  object \n",
      " 8   订购单价    31448 non-null  object \n",
      " 9   金额      31448 non-null  float64\n",
      "dtypes: float64(1), object(9)\n",
      "memory usage: 2.4+ MB\n",
      "<class 'pandas.core.frame.DataFrame'>\n",
      "RangeIndex: 122 entries, 0 to 121\n",
      "Data columns (total 5 columns):\n",
      " #   Column  Non-Null Count  Dtype \n",
      "---  ------  --------------  ----- \n",
      " 0   商品编号    122 non-null    object\n",
      " 1   商品名称    122 non-null    object\n",
      " 2   商品小类    122 non-null    object\n",
      " 3   商品大类    122 non-null    object\n",
      " 4   销售单价    122 non-null    int64 \n",
      "dtypes: int64(1), object(4)\n",
      "memory usage: 4.9+ KB\n"
     ]
    }
   ],
   "source": [
    "order.info()\n",
    "info.info()"
   ]
  },
  {
   "cell_type": "markdown",
   "metadata": {},
   "source": [
    "order表中“所在区域”、“所在省份”、“商品编号”、“订购数量”、“订购单价”、“金额”列存在空值；info表中无空值。"
   ]
  },
  {
   "cell_type": "code",
   "execution_count": 198,
   "metadata": {},
   "outputs": [
    {
     "data": {
      "text/html": [
       "<div>\n",
       "<style scoped>\n",
       "    .dataframe tbody tr th:only-of-type {\n",
       "        vertical-align: middle;\n",
       "    }\n",
       "\n",
       "    .dataframe tbody tr th {\n",
       "        vertical-align: top;\n",
       "    }\n",
       "\n",
       "    .dataframe thead th {\n",
       "        text-align: right;\n",
       "    }\n",
       "</style>\n",
       "<table border=\"1\" class=\"dataframe\">\n",
       "  <thead>\n",
       "    <tr style=\"text-align: right;\">\n",
       "      <th></th>\n",
       "      <th>订单编码</th>\n",
       "      <th>订单日期</th>\n",
       "      <th>客户编码</th>\n",
       "      <th>所在区域</th>\n",
       "      <th>所在省份</th>\n",
       "      <th>所在地市</th>\n",
       "      <th>商品编号</th>\n",
       "      <th>订购数量</th>\n",
       "      <th>订购单价</th>\n",
       "      <th>金额</th>\n",
       "    </tr>\n",
       "  </thead>\n",
       "  <tbody>\n",
       "    <tr>\n",
       "      <th>9718</th>\n",
       "      <td>D25844</td>\n",
       "      <td>2019-02-27 00:00:00</td>\n",
       "      <td>S14821</td>\n",
       "      <td>NaN</td>\n",
       "      <td>江苏省</td>\n",
       "      <td>扬州市</td>\n",
       "      <td>X045</td>\n",
       "      <td>538</td>\n",
       "      <td>205</td>\n",
       "      <td>110290.0</td>\n",
       "    </tr>\n",
       "    <tr>\n",
       "      <th>9726</th>\n",
       "      <td>D26806</td>\n",
       "      <td>2019-02-23 00:00:00</td>\n",
       "      <td>S16365</td>\n",
       "      <td>NaN</td>\n",
       "      <td>广东省</td>\n",
       "      <td>湛江市</td>\n",
       "      <td>X022</td>\n",
       "      <td>1542</td>\n",
       "      <td>158</td>\n",
       "      <td>243636.0</td>\n",
       "    </tr>\n",
       "    <tr>\n",
       "      <th>9781</th>\n",
       "      <td>D22734</td>\n",
       "      <td>2019-02-23 00:00:00</td>\n",
       "      <td>S12453</td>\n",
       "      <td>南区</td>\n",
       "      <td>NaN</td>\n",
       "      <td>广州市</td>\n",
       "      <td>X103</td>\n",
       "      <td>1067</td>\n",
       "      <td>202</td>\n",
       "      <td>215534.0</td>\n",
       "    </tr>\n",
       "    <tr>\n",
       "      <th>9978</th>\n",
       "      <td>D26028</td>\n",
       "      <td>2019-07-13 00:00:00</td>\n",
       "      <td>S15878</td>\n",
       "      <td>北区</td>\n",
       "      <td>NaN</td>\n",
       "      <td>北京市</td>\n",
       "      <td>X022</td>\n",
       "      <td>1317</td>\n",
       "      <td>158</td>\n",
       "      <td>208086.0</td>\n",
       "    </tr>\n",
       "    <tr>\n",
       "      <th>25029</th>\n",
       "      <td>D22086</td>\n",
       "      <td>2019-09-11 00:00:00</td>\n",
       "      <td>S22887</td>\n",
       "      <td>南区</td>\n",
       "      <td>江西省</td>\n",
       "      <td>九江市</td>\n",
       "      <td>X011</td>\n",
       "      <td>1698</td>\n",
       "      <td>NaN</td>\n",
       "      <td>NaN</td>\n",
       "    </tr>\n",
       "    <tr>\n",
       "      <th>25030</th>\n",
       "      <td>D23111</td>\n",
       "      <td>2019-04-22 00:00:00</td>\n",
       "      <td>S10909</td>\n",
       "      <td>东区</td>\n",
       "      <td>浙江省</td>\n",
       "      <td>温州市</td>\n",
       "      <td>X096</td>\n",
       "      <td>804</td>\n",
       "      <td>NaN</td>\n",
       "      <td>NaN</td>\n",
       "    </tr>\n",
       "    <tr>\n",
       "      <th>31444</th>\n",
       "      <td>D38486</td>\n",
       "      <td>2019-09-15 00:00:00</td>\n",
       "      <td>S12592</td>\n",
       "      <td>东区</td>\n",
       "      <td>浙江省</td>\n",
       "      <td>杭州市</td>\n",
       "      <td>NaN</td>\n",
       "      <td>NaN</td>\n",
       "      <td>NaN</td>\n",
       "      <td>NaN</td>\n",
       "    </tr>\n",
       "    <tr>\n",
       "      <th>31445</th>\n",
       "      <td>D31856</td>\n",
       "      <td>2019-07-12 00:00:00</td>\n",
       "      <td>S17476</td>\n",
       "      <td>东区</td>\n",
       "      <td>湖北省</td>\n",
       "      <td>武汉市</td>\n",
       "      <td>X019</td>\n",
       "      <td>NaN</td>\n",
       "      <td>NaN</td>\n",
       "      <td>NaN</td>\n",
       "    </tr>\n",
       "  </tbody>\n",
       "</table>\n",
       "</div>"
      ],
      "text/plain": [
       "         订单编码                 订单日期    客户编码 所在区域 所在省份 所在地市  商品编号  订购数量 订购单价  \\\n",
       "9718   D25844  2019-02-27 00:00:00  S14821  NaN  江苏省  扬州市  X045   538  205   \n",
       "9726   D26806  2019-02-23 00:00:00  S16365  NaN  广东省  湛江市  X022  1542  158   \n",
       "9781   D22734  2019-02-23 00:00:00  S12453   南区  NaN  广州市  X103  1067  202   \n",
       "9978   D26028  2019-07-13 00:00:00  S15878   北区  NaN  北京市  X022  1317  158   \n",
       "25029  D22086  2019-09-11 00:00:00  S22887   南区  江西省  九江市  X011  1698  NaN   \n",
       "25030  D23111  2019-04-22 00:00:00  S10909   东区  浙江省  温州市  X096   804  NaN   \n",
       "31444  D38486  2019-09-15 00:00:00  S12592   东区  浙江省  杭州市   NaN   NaN  NaN   \n",
       "31445  D31856  2019-07-12 00:00:00  S17476   东区  湖北省  武汉市  X019   NaN  NaN   \n",
       "\n",
       "             金额  \n",
       "9718   110290.0  \n",
       "9726   243636.0  \n",
       "9781   215534.0  \n",
       "9978   208086.0  \n",
       "25029       NaN  \n",
       "25030       NaN  \n",
       "31444       NaN  \n",
       "31445       NaN  "
      ]
     },
     "execution_count": 198,
     "metadata": {},
     "output_type": "execute_result"
    }
   ],
   "source": [
    "#查看缺失值\n",
    "order[order.isnull().any(axis=1)]"
   ]
  },
  {
   "cell_type": "code",
   "execution_count": 199,
   "metadata": {},
   "outputs": [
    {
     "name": "stderr",
     "output_type": "stream",
     "text": [
      "C:\\Users\\86155\\AppData\\Local\\Temp\\ipykernel_8016\\2010923823.py:2: SettingWithCopyWarning: \n",
      "A value is trying to be set on a copy of a slice from a DataFrame\n",
      "\n",
      "See the caveats in the documentation: https://pandas.pydata.org/pandas-docs/stable/user_guide/indexing.html#returning-a-view-versus-a-copy\n",
      "  order['所在区域'][9718]='东区'\n",
      "C:\\Users\\86155\\AppData\\Local\\Temp\\ipykernel_8016\\2010923823.py:3: SettingWithCopyWarning: \n",
      "A value is trying to be set on a copy of a slice from a DataFrame\n",
      "\n",
      "See the caveats in the documentation: https://pandas.pydata.org/pandas-docs/stable/user_guide/indexing.html#returning-a-view-versus-a-copy\n",
      "  order['所在区域'][9726]='南区'\n",
      "C:\\Users\\86155\\AppData\\Local\\Temp\\ipykernel_8016\\2010923823.py:4: SettingWithCopyWarning: \n",
      "A value is trying to be set on a copy of a slice from a DataFrame\n",
      "\n",
      "See the caveats in the documentation: https://pandas.pydata.org/pandas-docs/stable/user_guide/indexing.html#returning-a-view-versus-a-copy\n",
      "  order['所在省份'][9781]='广东省'\n",
      "C:\\Users\\86155\\AppData\\Local\\Temp\\ipykernel_8016\\2010923823.py:5: SettingWithCopyWarning: \n",
      "A value is trying to be set on a copy of a slice from a DataFrame\n",
      "\n",
      "See the caveats in the documentation: https://pandas.pydata.org/pandas-docs/stable/user_guide/indexing.html#returning-a-view-versus-a-copy\n",
      "  order['所在省份'][9978]='北京市'\n"
     ]
    }
   ],
   "source": [
    "#处理缺失值\n",
    "order['所在区域'][9718]='东区'\n",
    "order['所在区域'][9726]='南区'\n",
    "order['所在省份'][9781]='广东省'\n",
    "order['所在省份'][9978]='北京市'\n",
    "order.dropna(inplace=True)"
   ]
  },
  {
   "cell_type": "code",
   "execution_count": 200,
   "metadata": {},
   "outputs": [
    {
     "data": {
      "text/plain": [
       "订单编码    6\n",
       "订单日期    6\n",
       "客户编码    6\n",
       "所在区域    6\n",
       "所在省份    6\n",
       "所在地市    6\n",
       "商品编号    6\n",
       "订购数量    6\n",
       "订购单价    6\n",
       "金额      6\n",
       "dtype: int64"
      ]
     },
     "execution_count": 200,
     "metadata": {},
     "output_type": "execute_result"
    }
   ],
   "source": [
    "#查看是否存在重复行\n",
    "order[order.duplicated()].count()"
   ]
  },
  {
   "cell_type": "code",
   "execution_count": 201,
   "metadata": {},
   "outputs": [],
   "source": [
    "#删除重复行\n",
    "order.drop_duplicates(inplace=True)"
   ]
  },
  {
   "cell_type": "code",
   "execution_count": 202,
   "metadata": {},
   "outputs": [
    {
     "data": {
      "text/plain": [
       "商品编号    0\n",
       "商品名称    0\n",
       "商品小类    0\n",
       "商品大类    0\n",
       "销售单价    0\n",
       "dtype: int64"
      ]
     },
     "execution_count": 202,
     "metadata": {},
     "output_type": "execute_result"
    }
   ],
   "source": [
    "info[info.duplicated()].count()"
   ]
  },
  {
   "cell_type": "code",
   "execution_count": 203,
   "metadata": {},
   "outputs": [],
   "source": [
    "#对order表重建索引（info表没有删除行数据，无需重建）\n",
    "order.reset_index(drop=True,inplace=True)"
   ]
  },
  {
   "cell_type": "code",
   "execution_count": 204,
   "metadata": {},
   "outputs": [],
   "source": [
    "#日期列转换格式\n",
    "order['订单日期']=order['订单日期'].astype(str).str.replace('#','-')\n",
    "order['订单日期']=order['订单日期'].apply(lambda x:pd.to_datetime(x,format='%Y-%m-%d'))"
   ]
  },
  {
   "cell_type": "code",
   "execution_count": 205,
   "metadata": {},
   "outputs": [],
   "source": [
    "#查看订单日期范围\n",
    "order['订单日期'].min(),order['订单日期'].max()\n",
    "#清除脏数据\n",
    "order=order[order['订单日期']<'2021-01-01']"
   ]
  },
  {
   "cell_type": "markdown",
   "metadata": {},
   "source": [
    "[OUT]: (Timestamp('2019-01-01 00:00:00'), Timestamp('2019-09-30 00:00:00'))\n",
    "<br>订单日期在2019-01-01到2019-09-30之间。"
   ]
  },
  {
   "cell_type": "code",
   "execution_count": 223,
   "metadata": {},
   "outputs": [
    {
     "name": "stdout",
     "output_type": "stream",
     "text": [
      "<class 'pandas.core.frame.DataFrame'>\n",
      "Int64Index: 31441 entries, 0 to 31441\n",
      "Data columns (total 10 columns):\n",
      " #   Column  Non-Null Count  Dtype         \n",
      "---  ------  --------------  -----         \n",
      " 0   订单编码    31441 non-null  object        \n",
      " 1   订单日期    31441 non-null  datetime64[ns]\n",
      " 2   客户编码    31441 non-null  object        \n",
      " 3   所在区域    31441 non-null  object        \n",
      " 4   所在省份    31441 non-null  object        \n",
      " 5   所在地市    31441 non-null  object        \n",
      " 6   商品编号    31441 non-null  object        \n",
      " 7   订购数量    31441 non-null  int64         \n",
      " 8   订购单价    31441 non-null  int64         \n",
      " 9   金额      31441 non-null  float64       \n",
      "dtypes: datetime64[ns](1), float64(1), int64(2), object(6)\n",
      "memory usage: 2.6+ MB\n"
     ]
    }
   ],
   "source": [
    "#各列数据规范化\n",
    "order['商品编号']=order['商品编号'].str.replace('商品','')\n",
    "order['客户编码']=order['客户编码'].str.replace('编号','')\n",
    "order['订单编码']=order['订单编码'].str.replace('订单号','')\n",
    "order['所在区域']=order['所在区域'].str.strip().replace('男区','南区')\n",
    "order['订购单价']=order['订购单价'].astype(str).str.replace('元','').astype('int64')\n",
    "order['订购数量']=order['订购数量'].astype(str).str.replace('个','').astype('int64')\n",
    "order['金额']=order['金额'].astype(float)\n",
    "order.info()"
   ]
  },
  {
   "cell_type": "code",
   "execution_count": 225,
   "metadata": {},
   "outputs": [
    {
     "data": {
      "text/html": [
       "<div>\n",
       "<style scoped>\n",
       "    .dataframe tbody tr th:only-of-type {\n",
       "        vertical-align: middle;\n",
       "    }\n",
       "\n",
       "    .dataframe tbody tr th {\n",
       "        vertical-align: top;\n",
       "    }\n",
       "\n",
       "    .dataframe thead th {\n",
       "        text-align: right;\n",
       "    }\n",
       "</style>\n",
       "<table border=\"1\" class=\"dataframe\">\n",
       "  <thead>\n",
       "    <tr style=\"text-align: right;\">\n",
       "      <th></th>\n",
       "      <th>订单编码</th>\n",
       "      <th>订单日期</th>\n",
       "      <th>客户编码</th>\n",
       "      <th>所在区域</th>\n",
       "      <th>所在省份</th>\n",
       "      <th>所在地市</th>\n",
       "      <th>商品编号</th>\n",
       "      <th>订购数量</th>\n",
       "      <th>订购单价</th>\n",
       "      <th>金额</th>\n",
       "      <th>商品名称</th>\n",
       "      <th>商品小类</th>\n",
       "      <th>商品大类</th>\n",
       "      <th>销售单价</th>\n",
       "    </tr>\n",
       "  </thead>\n",
       "  <tbody>\n",
       "    <tr>\n",
       "      <th>0</th>\n",
       "      <td>D31313</td>\n",
       "      <td>2019-05-16</td>\n",
       "      <td>S22796</td>\n",
       "      <td>东区</td>\n",
       "      <td>浙江省</td>\n",
       "      <td>台州市</td>\n",
       "      <td>X091</td>\n",
       "      <td>892</td>\n",
       "      <td>214</td>\n",
       "      <td>190888.0</td>\n",
       "      <td>商品91</td>\n",
       "      <td>粉底</td>\n",
       "      <td>彩妆</td>\n",
       "      <td>214</td>\n",
       "    </tr>\n",
       "    <tr>\n",
       "      <th>1</th>\n",
       "      <td>D26674</td>\n",
       "      <td>2019-05-01</td>\n",
       "      <td>S15128</td>\n",
       "      <td>东区</td>\n",
       "      <td>江苏省</td>\n",
       "      <td>南通市</td>\n",
       "      <td>X091</td>\n",
       "      <td>1133</td>\n",
       "      <td>214</td>\n",
       "      <td>242462.0</td>\n",
       "      <td>商品91</td>\n",
       "      <td>粉底</td>\n",
       "      <td>彩妆</td>\n",
       "      <td>214</td>\n",
       "    </tr>\n",
       "    <tr>\n",
       "      <th>2</th>\n",
       "      <td>D23381</td>\n",
       "      <td>2019-09-22</td>\n",
       "      <td>S17133</td>\n",
       "      <td>东区</td>\n",
       "      <td>江苏省</td>\n",
       "      <td>宿迁市</td>\n",
       "      <td>X091</td>\n",
       "      <td>1136</td>\n",
       "      <td>214</td>\n",
       "      <td>243104.0</td>\n",
       "      <td>商品91</td>\n",
       "      <td>粉底</td>\n",
       "      <td>彩妆</td>\n",
       "      <td>214</td>\n",
       "    </tr>\n",
       "    <tr>\n",
       "      <th>3</th>\n",
       "      <td>D29060</td>\n",
       "      <td>2019-09-10</td>\n",
       "      <td>S14106</td>\n",
       "      <td>东区</td>\n",
       "      <td>江苏省</td>\n",
       "      <td>常州市</td>\n",
       "      <td>X091</td>\n",
       "      <td>544</td>\n",
       "      <td>214</td>\n",
       "      <td>116416.0</td>\n",
       "      <td>商品91</td>\n",
       "      <td>粉底</td>\n",
       "      <td>彩妆</td>\n",
       "      <td>214</td>\n",
       "    </tr>\n",
       "    <tr>\n",
       "      <th>4</th>\n",
       "      <td>D21234</td>\n",
       "      <td>2019-07-03</td>\n",
       "      <td>S17197</td>\n",
       "      <td>东区</td>\n",
       "      <td>湖北省</td>\n",
       "      <td>十堰市</td>\n",
       "      <td>X091</td>\n",
       "      <td>342</td>\n",
       "      <td>214</td>\n",
       "      <td>73188.0</td>\n",
       "      <td>商品91</td>\n",
       "      <td>粉底</td>\n",
       "      <td>彩妆</td>\n",
       "      <td>214</td>\n",
       "    </tr>\n",
       "  </tbody>\n",
       "</table>\n",
       "</div>"
      ],
      "text/plain": [
       "     订单编码       订单日期    客户编码 所在区域 所在省份 所在地市  商品编号  订购数量  订购单价        金额  商品名称  \\\n",
       "0  D31313 2019-05-16  S22796   东区  浙江省  台州市  X091   892   214  190888.0  商品91   \n",
       "1  D26674 2019-05-01  S15128   东区  江苏省  南通市  X091  1133   214  242462.0  商品91   \n",
       "2  D23381 2019-09-22  S17133   东区  江苏省  宿迁市  X091  1136   214  243104.0  商品91   \n",
       "3  D29060 2019-09-10  S14106   东区  江苏省  常州市  X091   544   214  116416.0  商品91   \n",
       "4  D21234 2019-07-03  S17197   东区  湖北省  十堰市  X091   342   214   73188.0  商品91   \n",
       "\n",
       "  商品小类 商品大类  销售单价  \n",
       "0   粉底   彩妆   214  \n",
       "1   粉底   彩妆   214  \n",
       "2   粉底   彩妆   214  \n",
       "3   粉底   彩妆   214  \n",
       "4   粉底   彩妆   214  "
      ]
     },
     "execution_count": 225,
     "metadata": {},
     "output_type": "execute_result"
    }
   ],
   "source": [
    "#关联两个表\n",
    "total=pd.merge(order,info,on='商品编号',how='inner')\n",
    "total.head()"
   ]
  },
  {
   "cell_type": "markdown",
   "metadata": {},
   "source": [
    "注：经对比，订购单价列与销售单价列信息一致，但出于实际场景中该两列信息可能不一致的考虑，此处不作删除。"
   ]
  },
  {
   "cell_type": "markdown",
   "metadata": {},
   "source": [
    "**2 数据可视化**"
   ]
  },
  {
   "cell_type": "markdown",
   "metadata": {},
   "source": [
    "**2.1 订单量走势**"
   ]
  },
  {
   "cell_type": "code",
   "execution_count": 208,
   "metadata": {},
   "outputs": [
    {
     "data": {
      "text/plain": [
       "'c:\\\\Users\\\\86155\\\\Desktop\\\\Tmall\\\\日化订单量走势.html'"
      ]
     },
     "execution_count": 208,
     "metadata": {},
     "output_type": "execute_result"
    }
   ],
   "source": [
    "r=total.groupby(total['订单日期']).agg({'订单编码':'count'}).to_dict()['订单编码']\n",
    "r_line=(\n",
    "    Line()\n",
    "    .add_xaxis(list(r.keys()))\n",
    "    .add_yaxis('订单量',list(r.values()))\n",
    "    .set_global_opts(title_opts=opts.TitleOpts(title='订单量走势'))\n",
    ")\n",
    "r_line.render('日化订单量走势.html')"
   ]
  },
  {
   "cell_type": "markdown",
   "metadata": {},
   "source": [
    "2019年1月至7月订单量呈增长态势，在6-8月达到最高水平，8月底有较明显的下降。"
   ]
  },
  {
   "cell_type": "markdown",
   "metadata": {},
   "source": [
    "**2.2 购买力TOP10地区**（可对区域/省份/地市进行聚合分析，此处选用地市）"
   ]
  },
  {
   "cell_type": "code",
   "execution_count": 213,
   "metadata": {},
   "outputs": [
    {
     "data": {
      "text/plain": [
       "'c:\\\\Users\\\\86155\\\\Desktop\\\\Tmall\\\\彩妆购买力TOP10地区.html'"
      ]
     },
     "execution_count": 213,
     "metadata": {},
     "output_type": "execute_result"
    }
   ],
   "source": [
    "r_cai=total[total['商品大类']=='彩妆'].groupby(total['所在地市']).agg({'订购数量':'sum'}).sort_values(by='订购数量',ascending=False)[:10].to_dict()['订购数量']\n",
    "r_c=(\n",
    "    Bar()\n",
    "    .add_xaxis([*r_cai.keys()])\n",
    "    .add_yaxis('购买量',[round(v/10000,2) for v in [*r_cai.values()]],label_opts=opts.LabelOpts(position='top',formatter='{@[1]/} 万'))\n",
    "    .set_global_opts(title_opts=opts.TitleOpts(title='购买力TOP10地区'))\n",
    ")\n",
    "r_c.render('彩妆购买力TOP10地区.html')"
   ]
  },
  {
   "cell_type": "code",
   "execution_count": 214,
   "metadata": {},
   "outputs": [
    {
     "data": {
      "text/plain": [
       "'c:\\\\Users\\\\86155\\\\Desktop\\\\Tmall\\\\护肤品购买力TOP10地区.html'"
      ]
     },
     "execution_count": 214,
     "metadata": {},
     "output_type": "execute_result"
    }
   ],
   "source": [
    "r_hu=total[total['商品大类']=='护肤品'].groupby(total['所在地市']).agg({'订购数量':'sum'}).sort_values(by='订购数量',ascending=False)[:10].to_dict()['订购数量']\n",
    "r_h=(\n",
    "    Bar()\n",
    "    .add_xaxis([*r_hu.keys()])\n",
    "    .add_yaxis('购买量',[round(v/10000,2) for v in [*r_hu.values()]],label_opts=opts.LabelOpts(position='top',formatter='{@[1]/} 万'))\n",
    "    .set_global_opts(title_opts=opts.TitleOpts(title='购买力TOP10地区'))\n",
    ")\n",
    "r_h.render('护肤品购买力TOP10地区.html')"
   ]
  },
  {
   "cell_type": "markdown",
   "metadata": {},
   "source": [
    "彩妆和护肤品购买力的TOP10中城市组成差异不大，排名位次稍有变化。在两个排行榜中，（超）一线城市分别占比80%和70%。"
   ]
  },
  {
   "cell_type": "markdown",
   "metadata": {},
   "source": [
    "**2.3 美妆类别需求量**"
   ]
  },
  {
   "cell_type": "code",
   "execution_count": 221,
   "metadata": {},
   "outputs": [
    {
     "data": {
      "text/html": [
       "<div>\n",
       "<style scoped>\n",
       "    .dataframe tbody tr th:only-of-type {\n",
       "        vertical-align: middle;\n",
       "    }\n",
       "\n",
       "    .dataframe tbody tr th {\n",
       "        vertical-align: top;\n",
       "    }\n",
       "\n",
       "    .dataframe thead th {\n",
       "        text-align: right;\n",
       "    }\n",
       "</style>\n",
       "<table border=\"1\" class=\"dataframe\">\n",
       "  <thead>\n",
       "    <tr style=\"text-align: right;\">\n",
       "      <th></th>\n",
       "      <th></th>\n",
       "      <th>订购数量</th>\n",
       "    </tr>\n",
       "    <tr>\n",
       "      <th>商品大类</th>\n",
       "      <th>商品小类</th>\n",
       "      <th></th>\n",
       "    </tr>\n",
       "  </thead>\n",
       "  <tbody>\n",
       "    <tr>\n",
       "      <th rowspan=\"5\" valign=\"top\">彩妆</th>\n",
       "      <th>口红</th>\n",
       "      <td>2013024</td>\n",
       "    </tr>\n",
       "    <tr>\n",
       "      <th>粉底</th>\n",
       "      <td>1188621</td>\n",
       "    </tr>\n",
       "    <tr>\n",
       "      <th>睫毛膏</th>\n",
       "      <td>587399</td>\n",
       "    </tr>\n",
       "    <tr>\n",
       "      <th>眼影</th>\n",
       "      <td>295795</td>\n",
       "    </tr>\n",
       "    <tr>\n",
       "      <th>蜜粉</th>\n",
       "      <td>45534</td>\n",
       "    </tr>\n",
       "    <tr>\n",
       "      <th rowspan=\"7\" valign=\"top\">护肤品</th>\n",
       "      <th>面膜</th>\n",
       "      <td>5450216</td>\n",
       "    </tr>\n",
       "    <tr>\n",
       "      <th>面霜</th>\n",
       "      <td>4566905</td>\n",
       "    </tr>\n",
       "    <tr>\n",
       "      <th>爽肤水</th>\n",
       "      <td>3525275</td>\n",
       "    </tr>\n",
       "    <tr>\n",
       "      <th>眼霜</th>\n",
       "      <td>3349413</td>\n",
       "    </tr>\n",
       "    <tr>\n",
       "      <th>隔离霜</th>\n",
       "      <td>2488124</td>\n",
       "    </tr>\n",
       "    <tr>\n",
       "      <th>防晒霜</th>\n",
       "      <td>2388610</td>\n",
       "    </tr>\n",
       "    <tr>\n",
       "      <th>洁面乳</th>\n",
       "      <td>1928020</td>\n",
       "    </tr>\n",
       "  </tbody>\n",
       "</table>\n",
       "</div>"
      ],
      "text/plain": [
       "              订购数量\n",
       "商品大类 商品小类         \n",
       "彩妆   口红    2013024\n",
       "     粉底    1188621\n",
       "     睫毛膏    587399\n",
       "     眼影     295795\n",
       "     蜜粉      45534\n",
       "护肤品  面膜    5450216\n",
       "     面霜    4566905\n",
       "     爽肤水   3525275\n",
       "     眼霜    3349413\n",
       "     隔离霜   2488124\n",
       "     防晒霜   2388610\n",
       "     洁面乳   1928020"
      ]
     },
     "execution_count": 221,
     "metadata": {},
     "output_type": "execute_result"
    }
   ],
   "source": [
    "total.groupby(['商品大类','商品小类']).agg({'订购数量':'sum'}).sort_values(by=['商品大类','订购数量'],ascending=[True,False])"
   ]
  },
  {
   "cell_type": "markdown",
   "metadata": {},
   "source": [
    "**3 RFM模型建立**"
   ]
  },
  {
   "cell_type": "markdown",
   "metadata": {},
   "source": [
    "用于量化客户价值，给客户打标签，用以指导二次营销的策略。\n",
    "<br>R-Recency（最近一次购买时间）\n",
    "<br>F-Frequency（消费频率）\n",
    "<br>M-Money（消费金额）\n",
    "<br>设定打分权重为R-Recency 20%，F-Frequency 30%，M-Money 50%"
   ]
  },
  {
   "cell_type": "code",
   "execution_count": 226,
   "metadata": {},
   "outputs": [
    {
     "data": {
      "text/html": [
       "<div>\n",
       "<style scoped>\n",
       "    .dataframe tbody tr th:only-of-type {\n",
       "        vertical-align: middle;\n",
       "    }\n",
       "\n",
       "    .dataframe tbody tr th {\n",
       "        vertical-align: top;\n",
       "    }\n",
       "\n",
       "    .dataframe thead th {\n",
       "        text-align: right;\n",
       "    }\n",
       "</style>\n",
       "<table border=\"1\" class=\"dataframe\">\n",
       "  <thead>\n",
       "    <tr style=\"text-align: right;\">\n",
       "      <th></th>\n",
       "      <th>最近一次购买时间</th>\n",
       "      <th>消费频率</th>\n",
       "      <th>消费金额</th>\n",
       "      <th>R</th>\n",
       "      <th>F</th>\n",
       "      <th>M</th>\n",
       "      <th>Score</th>\n",
       "    </tr>\n",
       "    <tr>\n",
       "      <th>客户编码</th>\n",
       "      <th></th>\n",
       "      <th></th>\n",
       "      <th></th>\n",
       "      <th></th>\n",
       "      <th></th>\n",
       "      <th></th>\n",
       "      <th></th>\n",
       "    </tr>\n",
       "  </thead>\n",
       "  <tbody>\n",
       "    <tr>\n",
       "      <th>S17476</th>\n",
       "      <td>2019-09-30</td>\n",
       "      <td>68</td>\n",
       "      <td>10258002.0</td>\n",
       "      <td>0.980148</td>\n",
       "      <td>0.985226</td>\n",
       "      <td>0.987073</td>\n",
       "      <td>98.5</td>\n",
       "    </tr>\n",
       "    <tr>\n",
       "      <th>S22326</th>\n",
       "      <td>2019-09-30</td>\n",
       "      <td>62</td>\n",
       "      <td>10074609.0</td>\n",
       "      <td>0.980148</td>\n",
       "      <td>0.973223</td>\n",
       "      <td>0.984303</td>\n",
       "      <td>98.0</td>\n",
       "    </tr>\n",
       "    <tr>\n",
       "      <th>S11581</th>\n",
       "      <td>2019-09-28</td>\n",
       "      <td>79</td>\n",
       "      <td>10333668.0</td>\n",
       "      <td>0.918283</td>\n",
       "      <td>0.996768</td>\n",
       "      <td>0.987996</td>\n",
       "      <td>97.7</td>\n",
       "    </tr>\n",
       "    <tr>\n",
       "      <th>S12848</th>\n",
       "      <td>2019-09-29</td>\n",
       "      <td>66</td>\n",
       "      <td>9673572.0</td>\n",
       "      <td>0.944598</td>\n",
       "      <td>0.980609</td>\n",
       "      <td>0.980609</td>\n",
       "      <td>97.3</td>\n",
       "    </tr>\n",
       "    <tr>\n",
       "      <th>S19095</th>\n",
       "      <td>2019-09-26</td>\n",
       "      <td>81</td>\n",
       "      <td>11031632.0</td>\n",
       "      <td>0.864728</td>\n",
       "      <td>0.999077</td>\n",
       "      <td>0.996307</td>\n",
       "      <td>97.1</td>\n",
       "    </tr>\n",
       "    <tr>\n",
       "      <th>...</th>\n",
       "      <td>...</td>\n",
       "      <td>...</td>\n",
       "      <td>...</td>\n",
       "      <td>...</td>\n",
       "      <td>...</td>\n",
       "      <td>...</td>\n",
       "      <td>...</td>\n",
       "    </tr>\n",
       "    <tr>\n",
       "      <th>S12690</th>\n",
       "      <td>2019-05-07</td>\n",
       "      <td>7</td>\n",
       "      <td>917233.0</td>\n",
       "      <td>0.012927</td>\n",
       "      <td>0.022622</td>\n",
       "      <td>0.024931</td>\n",
       "      <td>2.2</td>\n",
       "    </tr>\n",
       "    <tr>\n",
       "      <th>S11176</th>\n",
       "      <td>2019-06-09</td>\n",
       "      <td>7</td>\n",
       "      <td>614134.0</td>\n",
       "      <td>0.036011</td>\n",
       "      <td>0.022622</td>\n",
       "      <td>0.009234</td>\n",
       "      <td>1.9</td>\n",
       "    </tr>\n",
       "    <tr>\n",
       "      <th>S18379</th>\n",
       "      <td>2019-07-05</td>\n",
       "      <td>4</td>\n",
       "      <td>400195.0</td>\n",
       "      <td>0.071099</td>\n",
       "      <td>0.003232</td>\n",
       "      <td>0.004617</td>\n",
       "      <td>1.7</td>\n",
       "    </tr>\n",
       "    <tr>\n",
       "      <th>S13259</th>\n",
       "      <td>2019-06-01</td>\n",
       "      <td>6</td>\n",
       "      <td>645925.0</td>\n",
       "      <td>0.025854</td>\n",
       "      <td>0.011542</td>\n",
       "      <td>0.011080</td>\n",
       "      <td>1.4</td>\n",
       "    </tr>\n",
       "    <tr>\n",
       "      <th>S12463</th>\n",
       "      <td>2019-04-11</td>\n",
       "      <td>7</td>\n",
       "      <td>345919.0</td>\n",
       "      <td>0.005540</td>\n",
       "      <td>0.022622</td>\n",
       "      <td>0.000923</td>\n",
       "      <td>0.8</td>\n",
       "    </tr>\n",
       "  </tbody>\n",
       "</table>\n",
       "<p>1083 rows × 7 columns</p>\n",
       "</div>"
      ],
      "text/plain": [
       "         最近一次购买时间  消费频率        消费金额         R         F         M  Score\n",
       "客户编码                                                                    \n",
       "S17476 2019-09-30    68  10258002.0  0.980148  0.985226  0.987073   98.5\n",
       "S22326 2019-09-30    62  10074609.0  0.980148  0.973223  0.984303   98.0\n",
       "S11581 2019-09-28    79  10333668.0  0.918283  0.996768  0.987996   97.7\n",
       "S12848 2019-09-29    66   9673572.0  0.944598  0.980609  0.980609   97.3\n",
       "S19095 2019-09-26    81  11031632.0  0.864728  0.999077  0.996307   97.1\n",
       "...           ...   ...         ...       ...       ...       ...    ...\n",
       "S12690 2019-05-07     7    917233.0  0.012927  0.022622  0.024931    2.2\n",
       "S11176 2019-06-09     7    614134.0  0.036011  0.022622  0.009234    1.9\n",
       "S18379 2019-07-05     4    400195.0  0.071099  0.003232  0.004617    1.7\n",
       "S13259 2019-06-01     6    645925.0  0.025854  0.011542  0.011080    1.4\n",
       "S12463 2019-04-11     7    345919.0  0.005540  0.022622  0.000923    0.8\n",
       "\n",
       "[1083 rows x 7 columns]"
      ]
     },
     "execution_count": 226,
     "metadata": {},
     "output_type": "execute_result"
    }
   ],
   "source": [
    "rfm=total.groupby('客户编码').agg({'订单日期':'max','订单编码':'count','金额':'sum'})\n",
    "rfm.columns=['最近一次购买时间','消费频率','消费金额']\n",
    "#添加百分比排名\n",
    "rfm['R']=rfm['最近一次购买时间'].rank(pct=True)\n",
    "rfm['F']=rfm['消费频率'].rank(pct=True)\n",
    "rfm['M']=rfm['消费金额'].rank(pct=True)\n",
    "rfm['Score']=round(rfm['R']*20+rfm['F']*30+rfm['M']*50,1)\n",
    "rfm.sort_values(by='Score',ascending=False)\n"
   ]
  },
  {
   "cell_type": "markdown",
   "metadata": {},
   "source": [
    "可将80分以上的客户标记为优质客户，在资源有限时，可以优先服务好优质客户。"
   ]
  }
 ],
 "metadata": {
  "kernelspec": {
   "display_name": "Python 3",
   "language": "python",
   "name": "python3"
  },
  "language_info": {
   "codemirror_mode": {
    "name": "ipython",
    "version": 3
   },
   "file_extension": ".py",
   "mimetype": "text/x-python",
   "name": "python",
   "nbconvert_exporter": "python",
   "pygments_lexer": "ipython3",
   "version": "3.10.11"
  },
  "orig_nbformat": 4
 },
 "nbformat": 4,
 "nbformat_minor": 2
}
